{
 "cells": [
  {
   "cell_type": "code",
   "execution_count": 1,
   "metadata": {},
   "outputs": [
    {
     "name": "stdout",
     "output_type": "stream",
     "text": [
      "(945, 4000)\n"
     ]
    }
   ],
   "source": [
    "import tensorflow as tf\n",
    "import cv2,os\n",
    "import numpy as np\n",
    "from sklearn import preprocessing\n",
    "from sklearn.model_selection import train_test_split\n",
    "\n",
    "n_classes=2\n",
    "path_pos='Car/Positive'\n",
    "path_neg='Car/Negative'\n",
    "\n",
    "def read_data(path,label):\n",
    "    images = []\n",
    "    labels = []\n",
    "    dirs = os.listdir( path )\n",
    "    for files in dirs:\n",
    "        file_name=path+\"/\"+files\n",
    "        image = cv2.imread(file_name,0)\n",
    "        image=np.reshape(image, 40*100)\n",
    "        images.append(image)\n",
    "        labels.append(label)  \n",
    "    return images, labels\n",
    "\n",
    "\n",
    "\n",
    "images_pos,labels_pos=read_data(path_pos,1)\n",
    "images_neg,labels_neg=read_data(path_neg,0)\n",
    "\n",
    "images=images_pos+images_neg\n",
    "labels=labels_pos+labels_neg\n",
    "#images=np.concatenate(images_pos,images_neg)\n",
    "#labels=np.concatenate(labels_pos,labels_neg)\n",
    "\n",
    "x_train, x_test,y_train,y_test = train_test_split(images, labels,test_size=0.1, random_state=41)\n",
    "\n",
    "x_train=np.asarray(x_train)\n",
    "y_train=np.asarray(y_train)\n",
    "\n",
    "print(x_train.shape)\n"
   ]
  },
  {
   "cell_type": "code",
   "execution_count": 2,
   "metadata": {},
   "outputs": [],
   "source": [
    "# Parameters\n",
    "learning_rate = 0.001\n",
    "batch_size = 20\n",
    "display_step = 10\n",
    "num_steps=200\n",
    "# Network Parameters\n",
    "n_input = 4000 \n",
    "num_classes=2\n",
    "\n",
    "x = tf.placeholder(tf.float32, [None, n_input],name=\"x\")\n",
    "y = tf.placeholder(tf.int32, [None],name=\"y\")"
   ]
  },
  {
   "cell_type": "code",
   "execution_count": 3,
   "metadata": {},
   "outputs": [],
   "source": [
    "def random_batch(x_train, y_train, batch_size):\n",
    "    rnd_indices = np.random.randint(0, len(x_train), batch_size)\n",
    "    x_batch = x_train[rnd_indices]\n",
    "    y_batch = y_train[rnd_indices]\n",
    "    return x_batch, y_batch\n",
    "\n",
    "\n",
    "def conv_net(x):\n",
    "    x = tf.reshape(x, shape=[-1, 40, 100, 1])\n",
    "    conv1 = tf.layers.conv2d(x, 8, 5, activation=tf.nn.relu,padding=\"SAME\")\n",
    "    conv1 = tf.layers.max_pooling2d(conv1, 2, 2,padding=\"SAME\")\n",
    "    conv2 = tf.layers.conv2d(conv1, 16, 5, activation=tf.nn.relu,padding=\"SAME\")\n",
    "    conv2 = tf.layers.max_pooling2d(conv2, 2, 2,padding=\"SAME\")\n",
    "    conv3 = tf.layers.conv2d(conv2, 32, 3, activation=tf.nn.relu)\n",
    "    conv3 = tf.layers.max_pooling2d(conv3, 2, 2)\n",
    "    fc1 = tf.contrib.layers.flatten(conv3)\n",
    "    fc1 = tf.layers.dense(fc1, 512,activation=tf.nn.relu)\n",
    "    out = tf.layers.dense(fc1, num_classes,name=\"output\")\n",
    "    \n",
    "    return out"
   ]
  },
  {
   "cell_type": "code",
   "execution_count": 4,
   "metadata": {},
   "outputs": [],
   "source": [
    "pred = conv_net(x)\n",
    "\n",
    "xentropy = tf.nn.sparse_softmax_cross_entropy_with_logits(logits=pred, labels=y)\n",
    "cost = tf.reduce_mean(xentropy)\n",
    "\n",
    "optimizer = tf.train.AdamOptimizer()\n",
    "training_op=optimizer.minimize(cost)\n",
    "\n",
    "correct = tf.nn.in_top_k(pred, y, 1)\n",
    "accuracy = tf.reduce_mean(tf.cast(correct, tf.float32))\n",
    "init = tf.global_variables_initializer()\n"
   ]
  },
  {
   "cell_type": "code",
   "execution_count": 5,
   "metadata": {},
   "outputs": [
    {
     "name": "stdout",
     "output_type": "stream",
     "text": [
      "Epoch: 0 , Accuracy: 0.969312\n",
      "Epoch: 1 , Accuracy: 0.991534\n",
      "Epoch: 2 , Accuracy: 0.994709\n",
      "Epoch: 3 , Accuracy: 0.990476\n",
      "Epoch: 4 , Accuracy: 0.996825\n",
      "Epoch: 5 , Accuracy: 1.0\n",
      "Epoch: 6 , Accuracy: 1.0\n",
      "Epoch: 7 , Accuracy: 1.0\n",
      "Epoch: 8 , Accuracy: 1.0\n",
      "Epoch: 9 , Accuracy: 1.0\n",
      "Optimization Finished!\n"
     ]
    }
   ],
   "source": [
    "saver = tf.train.Saver()\n",
    "\n",
    "sess= tf.Session() \n",
    "\n",
    "n_epochs = 10\n",
    "n_batches = len(x_train) // batch_size\n",
    "\n",
    "sess.run(init)\n",
    "for epoch in range(n_epochs):\n",
    "    for step in range(n_batches):\n",
    "        batch_x, batch_y = random_batch(x_train, y_train, batch_size)\n",
    "        sess.run(training_op, feed_dict={x: batch_x, y: batch_y})\n",
    "    acc = sess.run( accuracy, feed_dict={x: x_train,y: y_train})\n",
    "    print('Epoch:',epoch, ', Accuracy:',acc)\n",
    "\n",
    "print(\"Optimization Finished!\")"
   ]
  },
  {
   "cell_type": "code",
   "execution_count": 6,
   "metadata": {},
   "outputs": [],
   "source": [
    "# saver = tf.train.Saver()\n",
    "\n",
    "# sess= tf.Session() \n",
    "\n",
    "# sess.run(init)\n",
    "# for step in range(1, num_steps+1):\n",
    "#     batch_x, batch_y = random_batch(x_train, y_train, batch_size)\n",
    "#     sess.run(training_op, feed_dict={x: batch_x, y: batch_y})\n",
    "#     if step % display_step == 0 or step == 1:\n",
    "#         acc = sess.run( accuracy, feed_dict={x: x_train,y: y_train})\n",
    "#         print('Step:',step, ', Accuracy:',acc)\n",
    "\n",
    "# print(\"Optimization Finished!\")\n",
    "    "
   ]
  },
  {
   "cell_type": "code",
   "execution_count": 7,
   "metadata": {},
   "outputs": [],
   "source": [
    "save_path = saver.save(sess, \"models/car_cnn.ckpt\")"
   ]
  },
  {
   "cell_type": "code",
   "execution_count": 8,
   "metadata": {},
   "outputs": [
    {
     "name": "stdout",
     "output_type": "stream",
     "text": [
      "Testing Accuracy: 0.971429\n"
     ]
    }
   ],
   "source": [
    "test_acc=sess.run(accuracy, feed_dict={x: x_test,y: y_test})\n",
    "print(\"Testing Accuracy:\", test_acc)"
   ]
  },
  {
   "cell_type": "code",
   "execution_count": null,
   "metadata": {},
   "outputs": [],
   "source": []
  },
  {
   "cell_type": "code",
   "execution_count": null,
   "metadata": {},
   "outputs": [],
   "source": []
  }
 ],
 "metadata": {
  "kernelspec": {
   "display_name": "Python 3",
   "language": "python",
   "name": "python3"
  },
  "language_info": {
   "codemirror_mode": {
    "name": "ipython",
    "version": 3
   },
   "file_extension": ".py",
   "mimetype": "text/x-python",
   "name": "python",
   "nbconvert_exporter": "python",
   "pygments_lexer": "ipython3",
   "version": "3.5.2"
  }
 },
 "nbformat": 4,
 "nbformat_minor": 1
}
