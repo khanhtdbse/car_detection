{
 "cells": [
  {
   "cell_type": "code",
   "execution_count": 2,
   "metadata": {},
   "outputs": [],
   "source": [
    "import cv2,os\n",
    "import numpy as np\n",
    "from sklearn import preprocessing\n",
    "from skimage.feature import hog\n",
    "from sklearn.model_selection import train_test_split\n"
   ]
  },
  {
   "cell_type": "code",
   "execution_count": 3,
   "metadata": {},
   "outputs": [],
   "source": [
    "n_classes=2\n",
    "path_pos='data/Car/Positive'\n",
    "path_neg='data/Car/Negative'\n",
    "\n",
    "def read_data(path,label):\n",
    "    images = []\n",
    "    labels = []\n",
    "    dirs = os.listdir(path )\n",
    "    for files in dirs:\n",
    "        file_name=path+\"/\"+files\n",
    "        image = cv2.imread(file_name,0)\n",
    "        #image=np.reshape(image, 40*100)\n",
    "        images.append(image)\n",
    "        labels.append(label)  \n",
    "    return images, labels\n",
    "\n",
    "images_pos,labels_pos=read_data(path_pos,1)\n",
    "images_neg,labels_neg=read_data(path_neg,0)\n",
    "\n",
    "images=images_pos+images_neg\n",
    "labels=labels_pos+labels_neg"
   ]
  },
  {
   "cell_type": "code",
   "execution_count": 4,
   "metadata": {},
   "outputs": [],
   "source": [
    "def get_hog(images):\n",
    "    list_hog_fd = []\n",
    "    for image in images: \n",
    "        fd = hog(image, orientations=9, pixels_per_cell=(8,8), cells_per_block=(2, 2), visualise=False)\n",
    "        list_hog_fd.append(fd)\n",
    "    hog_features = np.array(list_hog_fd, 'float64') \n",
    "    return hog_features"
   ]
  },
  {
   "cell_type": "code",
   "execution_count": 5,
   "metadata": {},
   "outputs": [
    {
     "name": "stderr",
     "output_type": "stream",
     "text": [
      "/home/james/virt3/lib/python3.5/site-packages/skimage/feature/_hog.py:119: skimage_deprecation: Default value of `block_norm`==`L1` is deprecated and will be changed to `L2-Hys` in v0.15\n",
      "  'be changed to `L2-Hys` in v0.15', skimage_deprecation)\n"
     ]
    },
    {
     "name": "stdout",
     "output_type": "stream",
     "text": [
      "(1039, 1584)\n"
     ]
    }
   ],
   "source": [
    "#images,labels=read_data(path)\n",
    "\n",
    "images=get_hog(images)\n",
    "x_train, x_test,y_train,y_test = train_test_split(images, labels,test_size=0.01, random_state=41)\n",
    "\n",
    "\n",
    "print(x_train.shape)\n",
    "#print(11*4*36)"
   ]
  },
  {
   "cell_type": "code",
   "execution_count": 6,
   "metadata": {},
   "outputs": [
    {
     "name": "stdout",
     "output_type": "stream",
     "text": [
      "1.0\n"
     ]
    }
   ],
   "source": [
    "from sklearn.svm import LinearSVC\n",
    "from sklearn import metrics\n",
    "\n",
    "linear_svm=LinearSVC(C=1)\n",
    "linear_svm.fit(x_train, y_train)\n",
    "y_pred = linear_svm.predict(x_test)\n",
    "score_test = metrics.accuracy_score(y_test, y_pred)\n",
    "print(score_test)"
   ]
  },
  {
   "cell_type": "code",
   "execution_count": 7,
   "metadata": {},
   "outputs": [],
   "source": [
    "import pickle\n",
    "filename='models/car_svm.pkl'\n",
    "pickle.dump(linear_svm, open(filename, 'wb'))"
   ]
  },
  {
   "cell_type": "code",
   "execution_count": null,
   "metadata": {},
   "outputs": [],
   "source": []
  },
  {
   "cell_type": "code",
   "execution_count": null,
   "metadata": {},
   "outputs": [],
   "source": []
  }
 ],
 "metadata": {
  "kernelspec": {
   "display_name": "Python 3",
   "language": "python",
   "name": "python3"
  },
  "language_info": {
   "codemirror_mode": {
    "name": "ipython",
    "version": 3
   },
   "file_extension": ".py",
   "mimetype": "text/x-python",
   "name": "python",
   "nbconvert_exporter": "python",
   "pygments_lexer": "ipython3",
   "version": "3.5.2"
  }
 },
 "nbformat": 4,
 "nbformat_minor": 2
}
